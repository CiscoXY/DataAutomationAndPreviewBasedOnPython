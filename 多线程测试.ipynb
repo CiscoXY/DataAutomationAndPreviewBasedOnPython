{
 "cells": [
  {
   "cell_type": "code",
   "execution_count": 1,
   "metadata": {},
   "outputs": [],
   "source": [
    "# import sys\n",
    "# sys.path.append('./')\n",
    "\n",
    "# from Analyzation_relative import Descriptive_statistics as DS\n",
    "# from Analyzation_relative import Data_process as DP\n",
    "# from Analyzation_relative import Regression as Reg\n",
    "# from Analyzation_relative.Statistical_inference import Normality_test\n",
    "\n",
    "# import matplotlib as mpl\n",
    "# import matplotlib.pyplot as plt\n",
    "# import numpy as np\n",
    "# import pandas as pd\n",
    "\n",
    "# import seaborn as sns\n",
    "\n",
    "\n",
    "\n",
    "# #*----------------------------------------------------------------\n",
    "# mpl.rcParams['font.sans-serif'] = ['SimHei'] # *允许显示中文\n",
    "# plt.rcParams['axes.unicode_minus']=False# *允许显示坐标轴负数\n",
    "# #*----------------------------------------------------------------\n",
    "\n",
    "# params = {'legend.fontsize': 7,}\n",
    "\n",
    "# plt.rcParams.update(params)\n",
    "\n",
    "from multiprocessing import Pool\n",
    "from threading import Thread\n",
    "import time\n",
    "import numpy as np\n",
    "def Pool_test_func(matrixA , matrixB):\n",
    "    \n",
    "    return matrixA @ matrixB\n",
    "\n",
    "np.random.seed(3000)\n",
    "\n",
    "args1 = [np.random.randn(3000 , 3000) , np.random.randn(3000 , 3000)]\n",
    "args2 = [np.random.randn(3000 , 3000) , np.random.randn(3000 , 3000)]\n",
    "args3 = [np.random.randn(3000 , 3000) , np.random.randn(3000 , 3000)]\n",
    "args4 = [np.random.randn(3000 , 3000) , np.random.randn(3000 , 3000)]\n",
    "\n",
    "args_list = [args1, args2, args3, args4]\n"
   ]
  },
  {
   "cell_type": "code",
   "execution_count": 2,
   "metadata": {},
   "outputs": [
    {
     "name": "stdout",
     "output_type": "stream",
     "text": [
      "time use: 1.677868127822876s\n"
     ]
    }
   ],
   "source": [
    "tic = time.time()\n",
    "for i in args_list:\n",
    "    Pool_test_func(i[0] , i[1])\n",
    "tac = time.time()\n",
    "print(f'time use: {tac - tic}s')\n",
    "    \n",
    "tic = time.time()\n",
    "with Pool(4) as p:  # 使用 4 个进程\n",
    "    results = p.starmap(Pool_test_func, args_list)\n",
    "    # t1 = Thread(target=Pool_test_func, args = args_list[0])\n",
    "    # t1.start()\n",
    "    # t2 = Thread(target=Pool_test_func, args = args_list[1])\n",
    "    # t2.start()\n",
    "    # t3 = Thread(target=Pool_test_func, args = args_list[2])\n",
    "    # t3.start()\n",
    "    # t4 = Thread(target=Pool_test_func, args = args_list[3])\n",
    "    # t4.start()\n",
    "    \n",
    "    # t1.join()\n",
    "    # t2.join()\n",
    "    # t3.join()\n",
    "    # t4.join()\n",
    "    \n",
    "tac = time.time()\n",
    "print(f'time use: {tac - tic}s')\n",
    "print(results)"
   ]
  }
 ],
 "metadata": {
  "kernelspec": {
   "display_name": "base",
   "language": "python",
   "name": "python3"
  },
  "language_info": {
   "codemirror_mode": {
    "name": "ipython",
    "version": 3
   },
   "file_extension": ".py",
   "mimetype": "text/x-python",
   "name": "python",
   "nbconvert_exporter": "python",
   "pygments_lexer": "ipython3",
   "version": "3.9.7"
  },
  "orig_nbformat": 4
 },
 "nbformat": 4,
 "nbformat_minor": 2
}
