{
 "cells": [
  {
   "cell_type": "code",
   "execution_count": 1,
   "metadata": {},
   "outputs": [],
   "source": [
    "import sys\n",
    "sys.path.append('./')\n",
    "\n",
    "from Analyzation_relative import Descriptive_statistics as DS\n",
    "from Analyzation_relative import Data_process as DP\n",
    "from Analyzation_relative import Regression as Reg\n",
    "from Analyzation_relative.Statistical_inference import Normality_test\n",
    "\n",
    "import matplotlib as mpl\n",
    "import matplotlib.pyplot as plt\n",
    "import numpy as np\n",
    "import pandas as pd\n",
    "\n",
    "import seaborn as sns\n",
    "\n",
    "\n",
    "\n",
    "#*----------------------------------------------------------------\n",
    "mpl.rcParams['font.sans-serif'] = ['SimHei'] # *允许显示中文\n",
    "plt.rcParams['axes.unicode_minus']=False# *允许显示坐标轴负数\n",
    "#*----------------------------------------------------------------\n",
    "\n",
    "params = {'legend.fontsize': 7,}\n",
    "\n",
    "plt.rcParams.update(params)"
   ]
  },
  {
   "cell_type": "code",
   "execution_count": 2,
   "metadata": {},
   "outputs": [
    {
     "data": {
      "text/plain": [
       "[5, 1, 2, 3, 4]"
      ]
     },
     "execution_count": 2,
     "metadata": {},
     "output_type": "execute_result"
    }
   ],
   "source": [
    "a = [1 ,2 , 3,  4 , 5]\n",
    "a.remove(5)\n",
    "a.insert(0 , 5)\n",
    "a"
   ]
  }
 ],
 "metadata": {
  "kernelspec": {
   "display_name": "base",
   "language": "python",
   "name": "python3"
  },
  "language_info": {
   "codemirror_mode": {
    "name": "ipython",
    "version": 3
   },
   "file_extension": ".py",
   "mimetype": "text/x-python",
   "name": "python",
   "nbconvert_exporter": "python",
   "pygments_lexer": "ipython3",
   "version": "3.9.7"
  },
  "orig_nbformat": 4
 },
 "nbformat": 4,
 "nbformat_minor": 2
}
